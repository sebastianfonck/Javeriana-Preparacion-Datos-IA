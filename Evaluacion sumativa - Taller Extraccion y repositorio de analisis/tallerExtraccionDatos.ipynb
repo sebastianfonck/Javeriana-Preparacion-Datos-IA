{
 "cells": [
  {
   "cell_type": "code",
   "execution_count": 2,
   "metadata": {},
   "outputs": [],
   "source": [
    "import requests\n",
    "import pandas as pd"
   ]
  },
  {
   "cell_type": "code",
   "execution_count": 3,
   "metadata": {},
   "outputs": [
    {
     "name": "stdout",
     "output_type": "stream",
     "text": [
      "       año                  subregion     total\n",
      "0    False                    Unknown        30\n",
      "1     True                  Caribbean    112519\n",
      "2     True             Western Europe   8654622\n",
      "3     True             Western Africa   7976985\n",
      "4     True             Central Europe   9749763\n",
      "..     ...                        ...       ...\n",
      "245   True             Western Europe  11555997\n",
      "246   True               Western Asia   9216900\n",
      "247   True  Australia and New Zealand   5084300\n",
      "248   True            Central America   6624554\n",
      "249  False                  Caribbean     13452\n",
      "\n",
      "[250 rows x 3 columns]\n"
     ]
    }
   ],
   "source": [
    "# URL de la API\n",
    "url = \"https://restcountries.com/v3.1/all\"\n",
    "\n",
    "# Hacer la solicitud GET\n",
    "response = requests.get(url)\n",
    "# Verificar que la solicitud fue exitosa\n",
    "if response.status_code == 200:\n",
    "    # Convertir la respuesta a JSON\n",
    "    data = response.json()\n",
    "    \n",
    "    # Lista para almacenar los datos\n",
    "    rows = []\n",
    "    \n",
    "    # Extraer la información necesaria\n",
    "    for country in data:\n",
    "        year = country.get(\"independent\", None)  # Año de independencia\n",
    "        subregion = country.get(\"subregion\", \"Unknown\")  # Subregión\n",
    "        total = country.get(\"population\", 0)  # Población total\n",
    "        \n",
    "        # Añadir los datos a la lista\n",
    "        rows.append({\"año\": year, \"subregion\": subregion, \"total\": total})\n",
    "    \n",
    "    # Crear el DataFrame\n",
    "    df = pd.DataFrame(rows)\n",
    "    \n",
    "    # Imprimir el DataFrame\n",
    "    print(df)\n",
    "else:\n",
    "    print(f\"Error: {response.status_code}\")"
   ]
  },
  {
   "cell_type": "code",
   "execution_count": 13,
   "metadata": {},
   "outputs": [
    {
     "name": "stdout",
     "output_type": "stream",
     "text": [
      "      año   subregion  total\n",
      "0    2012  Afganistán     71\n",
      "1    2012     Albania      2\n",
      "2    2012    Alemania   4982\n",
      "3    2012     Andorra      4\n",
      "4    2012      Angola     48\n",
      "..    ...         ...    ...\n",
      "165  2012     Vanuatu      2\n",
      "166  2012   Venezuela  80799\n",
      "167  2012     Vietnam      5\n",
      "168  2012  Yugoslavia      1\n",
      "169  2012      Zambia      1\n",
      "\n",
      "[170 rows x 3 columns]\n"
     ]
    }
   ],
   "source": [
    "# URL de la API\n",
    "url = \"https://www.datos.gov.co/api/id/efw5-jiej.json?$query=select%20*,%20:id\"\n",
    "\n",
    "# Hacer la solicitud GET\n",
    "response = requests.get(url)\n",
    "# Verificar que la solicitud fue exitosa\n",
    "if response.status_code == 200:\n",
    "    # Convertir la respuesta a JSON\n",
    "    data = response.json()\n",
    "\n",
    "    # Lista para almacenar los datos\n",
    "    rows = []\n",
    "\n",
    "    # Extraer la información necesaria\n",
    "    for country in data:\n",
    "        year = country.get(\"a_o\", None)  # Año de independencia\n",
    "        subregion = country.get(\"pa_s_destino\", \"Unknown\")  # Subregión\n",
    "        total = country.get(\"total\", 0)  # Población total  \n",
    "\n",
    "        # Añadir los datos a la lista\n",
    "        rows.append({\"año\": year, \"subregion\": subregion, \"total\": total})   \n",
    "    \n",
    "    df = pd.DataFrame(rows)\n",
    "    # Imprimir el DataFrame\n",
    "\n",
    "    # Asegurarse de que la columna 'total' sea numérica\n",
    "    df['total'] = pd.to_numeric(df['total'], errors='coerce')\n",
    "                                   \n",
    "    # Configurar pandas para mostrar los números en notación científica\n",
    "    #pd.set_option('display.float_format', '{:.2e}'.format)\n",
    "\n",
    "    # Agrupar por las columnas 'año' y 'subregion' y sumar los valores de 'total'\n",
    "    resultado = df.groupby(['año', 'subregion']).sum().reset_index()\n",
    "\n",
    "    # Imprimir el DataFrame resultante\n",
    "    print(resultado)\n",
    "else:\n",
    "    print(f\"Error: {response.status_code}\")"
   ]
  },
  {
   "cell_type": "code",
   "execution_count": 15,
   "metadata": {},
   "outputs": [
    {
     "name": "stdout",
     "output_type": "stream",
     "text": [
      "Archivo 'resultado_agregado_salidas.csv' guardado exitosamente.\n"
     ]
    }
   ],
   "source": [
    "# Guardar el DataFrame resultante en un archivo CSV con separador ';' y sin índice, usando UTF-8\n",
    "resultado.to_csv('resultado_agregado_salidas.csv', sep=';', index=False, encoding='utf-8')\n",
    "\n",
    "print(\"Archivo 'resultado_agregado_salidas.csv' guardado exitosamente.\")"
   ]
  }
 ],
 "metadata": {
  "kernelspec": {
   "display_name": "base",
   "language": "python",
   "name": "python3"
  },
  "language_info": {
   "codemirror_mode": {
    "name": "ipython",
    "version": 3
   },
   "file_extension": ".py",
   "mimetype": "text/x-python",
   "name": "python",
   "nbconvert_exporter": "python",
   "pygments_lexer": "ipython3",
   "version": "3.10.9"
  }
 },
 "nbformat": 4,
 "nbformat_minor": 2
}
